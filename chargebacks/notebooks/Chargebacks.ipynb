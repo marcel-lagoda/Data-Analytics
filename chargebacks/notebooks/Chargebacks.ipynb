{
 "cells": [
  {
   "cell_type": "markdown",
   "metadata": {},
   "source": [
    "# Chargebacks data Analysis Q4 2017"
   ]
  },
  {
   "cell_type": "code",
   "execution_count": 1,
   "metadata": {},
   "outputs": [],
   "source": [
    "import sqlite3\n",
    "import pandas as pd  # <== data processing\n",
    "import numpy as np  # <== linear algebra\n",
    "import matplotlib as plt  # data viz\n",
    "import seaborn as sns  # data viz\n",
    "%matplotlib inline"
   ]
  },
  {
   "cell_type": "markdown",
   "metadata": {},
   "source": [
    "## Data wrangling"
   ]
  },
  {
   "cell_type": "code",
   "execution_count": null,
   "metadata": {},
   "outputs": [],
   "source": [
    "# convert each xlsx tab into csv separate files\n",
    "\n",
    "# visa_xlsx = pd.read_excel('../input/Processing Report.xlsx', 'Visa', index_col=None)  # read data\n",
    "# visa_xlsx.to_csv('../input/visa.csv', encoding='utf-8', index=False)  # save data\n",
    "\n",
    "# mastercard_xlsx = pd.read_excel('../input/Processing Report.xlsx', 'Mastercard', index_col=None)\n",
    "# mastercard_xlsx.to_csv('../input/mastercard.csv', encoding='utf-8', index=False)"
   ]
  },
  {
   "cell_type": "code",
   "execution_count": null,
   "metadata": {},
   "outputs": [],
   "source": [
    "# create dataframes\n",
    "\n",
    "# df_visa = pd.read_csv('../input/visa.csv')\n",
    "# df_mastercard = pd.read_csv('../input/mastercard.csv')"
   ]
  },
  {
   "cell_type": "code",
   "execution_count": 2,
   "metadata": {},
   "outputs": [],
   "source": [
    "# aggregate all data & create bin and last_4 columns\n",
    "\n",
    "data_concat = pd.concat(pd.read_excel('../input/Processing Report.xlsx', sheet_name=None), ignore_index=True) # aggregate visa & mastercard sheets\n",
    "# data_concat[['bin', 'last_4']] = data_concat['Masked CCN'].str.replace('\\W+','-', 1).str.split('-', expand=True)  # add columns\n",
    "data_concat[['bin_last_4']] = data_concat['Masked CCN'].str.replace('\\W+','', 1)  # oczyść dane w kolumnie Masked CNN, usuń gwiazdki\n",
    "# data_concat.to_csv('../input/all_data.csv', encoding='utf-8', index=False)\n",
    "data_concat.to_csv('../input/all_data.csv', encoding='utf-8', index=False)  # utwórz all_data.csv\n",
    "# df_all = pd.read_csv('../input/all_data.csv')"
   ]
  },
  {
   "cell_type": "code",
   "execution_count": 3,
   "metadata": {
    "scrolled": true
   },
   "outputs": [],
   "source": [
    "all_chargebacks = pd.read_csv('../input/all_data.csv') "
   ]
  },
  {
   "cell_type": "code",
   "execution_count": null,
   "metadata": {},
   "outputs": [],
   "source": [
    "# df_all[['bin', 'last_4']] = df_all['Masked CCN'].str.replace('\\W+','-', 1).str.split('-', expand=True)"
   ]
  },
  {
   "cell_type": "code",
   "execution_count": null,
   "metadata": {},
   "outputs": [],
   "source": [
    "# df_all[['bin_last_4']] = df_all['Masked CCN'].str.replace('\\W+','', 1)"
   ]
  },
  {
   "cell_type": "code",
   "execution_count": 4,
   "metadata": {},
   "outputs": [],
   "source": [
    "# database connection\n",
    "db = sqlite3.connect('../input/db.sqlite')"
   ]
  },
  {
   "cell_type": "markdown",
   "metadata": {},
   "source": [
    "![db](../images/main_schema.png)DB schema"
   ]
  },
  {
   "cell_type": "markdown",
   "metadata": {
    "scrolled": true
   },
   "source": [
    "****************************************************************************************\n",
    "\n"
   ]
  },
  {
   "cell_type": "markdown",
   "metadata": {},
   "source": [
    "#### Report Chargeback Data"
   ]
  },
  {
   "cell_type": "code",
   "execution_count": 5,
   "metadata": {},
   "outputs": [
    {
     "data": {
      "text/html": [
       "<div>\n",
       "<style scoped>\n",
       "    .dataframe tbody tr th:only-of-type {\n",
       "        vertical-align: middle;\n",
       "    }\n",
       "\n",
       "    .dataframe tbody tr th {\n",
       "        vertical-align: top;\n",
       "    }\n",
       "\n",
       "    .dataframe thead th {\n",
       "        text-align: right;\n",
       "    }\n",
       "</style>\n",
       "<table border=\"1\" class=\"dataframe\">\n",
       "  <thead>\n",
       "    <tr style=\"text-align: right;\">\n",
       "      <th></th>\n",
       "      <th>Transaction Datetime</th>\n",
       "      <th>Currnecy</th>\n",
       "      <th>Amount</th>\n",
       "      <th>Masked CCN</th>\n",
       "      <th>Card Brans</th>\n",
       "      <th>ARN</th>\n",
       "      <th>bin_last_4</th>\n",
       "    </tr>\n",
       "  </thead>\n",
       "  <tbody>\n",
       "    <tr>\n",
       "      <th>262</th>\n",
       "      <td>2017-11-21 15:46:18</td>\n",
       "      <td>EUR</td>\n",
       "      <td>240</td>\n",
       "      <td>529188******5922</td>\n",
       "      <td>mastercard</td>\n",
       "      <td>NaN</td>\n",
       "      <td>5291885922</td>\n",
       "    </tr>\n",
       "    <tr>\n",
       "      <th>208</th>\n",
       "      <td>2017-10-11 19:02:43</td>\n",
       "      <td>USD</td>\n",
       "      <td>120</td>\n",
       "      <td>551029******8293</td>\n",
       "      <td>mastercard</td>\n",
       "      <td>NaN</td>\n",
       "      <td>5510298293</td>\n",
       "    </tr>\n",
       "    <tr>\n",
       "      <th>42</th>\n",
       "      <td>2017-10-19 11:06:01</td>\n",
       "      <td>EUR</td>\n",
       "      <td>270</td>\n",
       "      <td>424587******4549</td>\n",
       "      <td>visa</td>\n",
       "      <td>2DD77FW7-1508403961-100375982-VPYU417X5N</td>\n",
       "      <td>4245874549</td>\n",
       "    </tr>\n",
       "  </tbody>\n",
       "</table>\n",
       "</div>"
      ],
      "text/plain": [
       "    Transaction Datetime Currnecy  Amount        Masked CCN  Card Brans  \\\n",
       "262  2017-11-21 15:46:18      EUR     240  529188******5922  mastercard   \n",
       "208  2017-10-11 19:02:43      USD     120  551029******8293  mastercard   \n",
       "42   2017-10-19 11:06:01      EUR     270  424587******4549        visa   \n",
       "\n",
       "                                          ARN  bin_last_4  \n",
       "262                                       NaN  5291885922  \n",
       "208                                       NaN  5510298293  \n",
       "42   2DD77FW7-1508403961-100375982-VPYU417X5N  4245874549  "
      ]
     },
     "execution_count": 5,
     "metadata": {},
     "output_type": "execute_result"
    }
   ],
   "source": [
    "all_chargebacks.sample(3)"
   ]
  },
  {
   "cell_type": "code",
   "execution_count": 6,
   "metadata": {},
   "outputs": [
    {
     "data": {
      "text/plain": [
       "205"
      ]
     },
     "execution_count": 6,
     "metadata": {},
     "output_type": "execute_result"
    }
   ],
   "source": [
    "all_chargebacks['bin_last_4'].nunique()"
   ]
  },
  {
   "cell_type": "code",
   "execution_count": 7,
   "metadata": {},
   "outputs": [
    {
     "name": "stdout",
     "output_type": "stream",
     "text": [
      "<class 'pandas.core.frame.DataFrame'>\n",
      "RangeIndex: 318 entries, 0 to 317\n",
      "Data columns (total 7 columns):\n",
      " #   Column                Non-Null Count  Dtype \n",
      "---  ------                --------------  ----- \n",
      " 0   Transaction Datetime  318 non-null    object\n",
      " 1   Currnecy              318 non-null    object\n",
      " 2   Amount                318 non-null    int64 \n",
      " 3   Masked CCN            318 non-null    object\n",
      " 4   Card Brans            318 non-null    object\n",
      " 5   ARN                   193 non-null    object\n",
      " 6   bin_last_4            318 non-null    int64 \n",
      "dtypes: int64(2), object(5)\n",
      "memory usage: 17.5+ KB\n"
     ]
    }
   ],
   "source": [
    "all_chargebacks.info() "
   ]
  },
  {
   "cell_type": "code",
   "execution_count": 8,
   "metadata": {},
   "outputs": [
    {
     "name": "stdout",
     "output_type": "stream",
     "text": [
      "<class 'pandas.core.frame.DataFrame'>\n",
      "RangeIndex: 9997 entries, 0 to 9996\n",
      "Data columns (total 3 columns):\n",
      " #   Column      Non-Null Count  Dtype\n",
      "---  ------      --------------  -----\n",
      " 0   bin_last_4  9997 non-null   int64\n",
      " 1   bin_last    9997 non-null   int64\n",
      " 2   id          9997 non-null   int64\n",
      "dtypes: int64(3)\n",
      "memory usage: 234.4 KB\n"
     ]
    }
   ],
   "source": [
    "cards_indx_q = pd.read_sql_query('''select \n",
    "                                    cast(bin || last_4 as int) as bin_last_4,\n",
    "                                    cast(bin || last_4 as int) as bin_last,\n",
    "                                    id from cards''', db)\n",
    "cards_indx_q.info()"
   ]
  },
  {
   "cell_type": "markdown",
   "metadata": {},
   "source": [
    "#### Append id numbers to chargebx dataframe"
   ]
  },
  {
   "cell_type": "code",
   "execution_count": 9,
   "metadata": {},
   "outputs": [
    {
     "name": "stdout",
     "output_type": "stream",
     "text": [
      "<class 'pandas.core.frame.DataFrame'>\n",
      "Int64Index: 322 entries, 0 to 321\n",
      "Data columns (total 9 columns):\n",
      " #   Column                Non-Null Count  Dtype \n",
      "---  ------                --------------  ----- \n",
      " 0   Transaction Datetime  322 non-null    object\n",
      " 1   Currnecy              322 non-null    object\n",
      " 2   Amount                322 non-null    int64 \n",
      " 3   Masked CCN            322 non-null    object\n",
      " 4   Card Brans            322 non-null    object\n",
      " 5   ARN                   194 non-null    object\n",
      " 6   bin_last_4            322 non-null    int64 \n",
      " 7   bin_last              322 non-null    int64 \n",
      " 8   id                    322 non-null    int64 \n",
      "dtypes: int64(4), object(5)\n",
      "memory usage: 25.2+ KB\n"
     ]
    }
   ],
   "source": [
    "# append ids from cards_indx to data_all\n",
    "chargebx = pd.merge(all_chargebacks,\n",
    "                     cards_indx_q,\n",
    "                     on='bin_last_4',\n",
    "                     how='inner')\n",
    "chargebx.info()"
   ]
  },
  {
   "cell_type": "code",
   "execution_count": 10,
   "metadata": {
    "scrolled": true
   },
   "outputs": [
    {
     "data": {
      "text/html": [
       "<div>\n",
       "<style scoped>\n",
       "    .dataframe tbody tr th:only-of-type {\n",
       "        vertical-align: middle;\n",
       "    }\n",
       "\n",
       "    .dataframe tbody tr th {\n",
       "        vertical-align: top;\n",
       "    }\n",
       "\n",
       "    .dataframe thead th {\n",
       "        text-align: right;\n",
       "    }\n",
       "</style>\n",
       "<table border=\"1\" class=\"dataframe\">\n",
       "  <thead>\n",
       "    <tr style=\"text-align: right;\">\n",
       "      <th></th>\n",
       "      <th>created_at</th>\n",
       "      <th>Currnecy</th>\n",
       "      <th>Amount</th>\n",
       "      <th>Masked CCN</th>\n",
       "      <th>Card Brans</th>\n",
       "      <th>ARN</th>\n",
       "      <th>bin_last_4</th>\n",
       "      <th>card_id</th>\n",
       "      <th>chargeback</th>\n",
       "    </tr>\n",
       "  </thead>\n",
       "  <tbody>\n",
       "    <tr>\n",
       "      <th>0</th>\n",
       "      <td>2017-10-02 01:19:58</td>\n",
       "      <td>USD</td>\n",
       "      <td>70</td>\n",
       "      <td>483316******3047</td>\n",
       "      <td>visa</td>\n",
       "      <td>2DD77FW7-1506899998-100375982-D4QGK72CC0</td>\n",
       "      <td>4833163047</td>\n",
       "      <td>1503771540</td>\n",
       "      <td>1</td>\n",
       "    </tr>\n",
       "    <tr>\n",
       "      <th>1</th>\n",
       "      <td>2017-12-08 13:36:50</td>\n",
       "      <td>USD</td>\n",
       "      <td>140</td>\n",
       "      <td>483316******3047</td>\n",
       "      <td>visa</td>\n",
       "      <td>2DD77FW7-1512736610-100375145-SD7LET6DQY</td>\n",
       "      <td>4833163047</td>\n",
       "      <td>1503771540</td>\n",
       "      <td>1</td>\n",
       "    </tr>\n",
       "    <tr>\n",
       "      <th>2</th>\n",
       "      <td>2017-10-02 08:21:16</td>\n",
       "      <td>EUR</td>\n",
       "      <td>100</td>\n",
       "      <td>403905******6257</td>\n",
       "      <td>visa</td>\n",
       "      <td>2DD77FW7-1506925276-100375856-3CLLAK8JZ0</td>\n",
       "      <td>4039056257</td>\n",
       "      <td>1497252601</td>\n",
       "      <td>1</td>\n",
       "    </tr>\n",
       "    <tr>\n",
       "      <th>3</th>\n",
       "      <td>2017-10-02 16:57:29</td>\n",
       "      <td>USD</td>\n",
       "      <td>50</td>\n",
       "      <td>485340******8306</td>\n",
       "      <td>visa</td>\n",
       "      <td>2DD77FW7-1506956249-100632165-A35L6E461Z</td>\n",
       "      <td>4853408306</td>\n",
       "      <td>1488640432</td>\n",
       "      <td>1</td>\n",
       "    </tr>\n",
       "    <tr>\n",
       "      <th>4</th>\n",
       "      <td>2017-10-03 06:14:16</td>\n",
       "      <td>EUR</td>\n",
       "      <td>240</td>\n",
       "      <td>494172******3012</td>\n",
       "      <td>visa</td>\n",
       "      <td>2DD77FW7-1507004056-100632165-HZCR6EGFSX</td>\n",
       "      <td>4941723012</td>\n",
       "      <td>1495394992</td>\n",
       "      <td>1</td>\n",
       "    </tr>\n",
       "    <tr>\n",
       "      <th>...</th>\n",
       "      <td>...</td>\n",
       "      <td>...</td>\n",
       "      <td>...</td>\n",
       "      <td>...</td>\n",
       "      <td>...</td>\n",
       "      <td>...</td>\n",
       "      <td>...</td>\n",
       "      <td>...</td>\n",
       "      <td>...</td>\n",
       "    </tr>\n",
       "    <tr>\n",
       "      <th>317</th>\n",
       "      <td>2017-12-29 04:29:43</td>\n",
       "      <td>USD</td>\n",
       "      <td>130</td>\n",
       "      <td>510277******9790</td>\n",
       "      <td>mastercard</td>\n",
       "      <td>NaN</td>\n",
       "      <td>5102779790</td>\n",
       "      <td>1505590236</td>\n",
       "      <td>1</td>\n",
       "    </tr>\n",
       "    <tr>\n",
       "      <th>318</th>\n",
       "      <td>2017-12-29 12:25:53</td>\n",
       "      <td>USD</td>\n",
       "      <td>90</td>\n",
       "      <td>533621******5038</td>\n",
       "      <td>mastercard</td>\n",
       "      <td>NaN</td>\n",
       "      <td>5336215038</td>\n",
       "      <td>1501764998</td>\n",
       "      <td>1</td>\n",
       "    </tr>\n",
       "    <tr>\n",
       "      <th>319</th>\n",
       "      <td>2017-12-29 20:33:23</td>\n",
       "      <td>EUR</td>\n",
       "      <td>170</td>\n",
       "      <td>533248******4967</td>\n",
       "      <td>mastercard</td>\n",
       "      <td>NaN</td>\n",
       "      <td>5332484967</td>\n",
       "      <td>1505941882</td>\n",
       "      <td>1</td>\n",
       "    </tr>\n",
       "    <tr>\n",
       "      <th>320</th>\n",
       "      <td>2017-12-29 21:45:11</td>\n",
       "      <td>USD</td>\n",
       "      <td>260</td>\n",
       "      <td>543924******5461</td>\n",
       "      <td>mastercard</td>\n",
       "      <td>NaN</td>\n",
       "      <td>5439245461</td>\n",
       "      <td>1504064117</td>\n",
       "      <td>1</td>\n",
       "    </tr>\n",
       "    <tr>\n",
       "      <th>321</th>\n",
       "      <td>2017-12-30 14:37:12</td>\n",
       "      <td>EUR</td>\n",
       "      <td>40</td>\n",
       "      <td>525855******4031</td>\n",
       "      <td>mastercard</td>\n",
       "      <td>NaN</td>\n",
       "      <td>5258554031</td>\n",
       "      <td>1498712204</td>\n",
       "      <td>1</td>\n",
       "    </tr>\n",
       "  </tbody>\n",
       "</table>\n",
       "<p>322 rows × 9 columns</p>\n",
       "</div>"
      ],
      "text/plain": [
       "              created_at Currnecy  Amount        Masked CCN  Card Brans  \\\n",
       "0    2017-10-02 01:19:58      USD      70  483316******3047        visa   \n",
       "1    2017-12-08 13:36:50      USD     140  483316******3047        visa   \n",
       "2    2017-10-02 08:21:16      EUR     100  403905******6257        visa   \n",
       "3    2017-10-02 16:57:29      USD      50  485340******8306        visa   \n",
       "4    2017-10-03 06:14:16      EUR     240  494172******3012        visa   \n",
       "..                   ...      ...     ...               ...         ...   \n",
       "317  2017-12-29 04:29:43      USD     130  510277******9790  mastercard   \n",
       "318  2017-12-29 12:25:53      USD      90  533621******5038  mastercard   \n",
       "319  2017-12-29 20:33:23      EUR     170  533248******4967  mastercard   \n",
       "320  2017-12-29 21:45:11      USD     260  543924******5461  mastercard   \n",
       "321  2017-12-30 14:37:12      EUR      40  525855******4031  mastercard   \n",
       "\n",
       "                                          ARN  bin_last_4     card_id  \\\n",
       "0    2DD77FW7-1506899998-100375982-D4QGK72CC0  4833163047  1503771540   \n",
       "1    2DD77FW7-1512736610-100375145-SD7LET6DQY  4833163047  1503771540   \n",
       "2    2DD77FW7-1506925276-100375856-3CLLAK8JZ0  4039056257  1497252601   \n",
       "3    2DD77FW7-1506956249-100632165-A35L6E461Z  4853408306  1488640432   \n",
       "4    2DD77FW7-1507004056-100632165-HZCR6EGFSX  4941723012  1495394992   \n",
       "..                                        ...         ...         ...   \n",
       "317                                       NaN  5102779790  1505590236   \n",
       "318                                       NaN  5336215038  1501764998   \n",
       "319                                       NaN  5332484967  1505941882   \n",
       "320                                       NaN  5439245461  1504064117   \n",
       "321                                       NaN  5258554031  1498712204   \n",
       "\n",
       "     chargeback  \n",
       "0             1  \n",
       "1             1  \n",
       "2             1  \n",
       "3             1  \n",
       "4             1  \n",
       "..          ...  \n",
       "317           1  \n",
       "318           1  \n",
       "319           1  \n",
       "320           1  \n",
       "321           1  \n",
       "\n",
       "[322 rows x 9 columns]"
      ]
     },
     "execution_count": 10,
     "metadata": {},
     "output_type": "execute_result"
    }
   ],
   "source": [
    "chargebx = chargebx.rename(columns=\n",
    "                           {'id':'card_id',\n",
    "                            'Transaction Datetime': 'created_at'})\n",
    "chargebx['chargeback'] = 1\n",
    "chargebx['chargeback'].astype(int)\n",
    "chargebx.drop(['bin_last'], axis=1)"
   ]
  },
  {
   "cell_type": "code",
   "execution_count": 11,
   "metadata": {},
   "outputs": [
    {
     "name": "stdout",
     "output_type": "stream",
     "text": [
      "<class 'pandas.core.frame.DataFrame'>\n",
      "Int64Index: 322 entries, 0 to 321\n",
      "Data columns (total 10 columns):\n",
      " #   Column      Non-Null Count  Dtype \n",
      "---  ------      --------------  ----- \n",
      " 0   created_at  322 non-null    object\n",
      " 1   Currnecy    322 non-null    object\n",
      " 2   Amount      322 non-null    int64 \n",
      " 3   Masked CCN  322 non-null    object\n",
      " 4   Card Brans  322 non-null    object\n",
      " 5   ARN         194 non-null    object\n",
      " 6   bin_last_4  322 non-null    int64 \n",
      " 7   bin_last    322 non-null    int64 \n",
      " 8   card_id     322 non-null    int64 \n",
      " 9   chargeback  322 non-null    int64 \n",
      "dtypes: int64(5), object(5)\n",
      "memory usage: 27.7+ KB\n"
     ]
    }
   ],
   "source": [
    "# chargbacks with ids\n",
    "chargebx.info()"
   ]
  },
  {
   "cell_type": "markdown",
   "metadata": {},
   "source": [
    "#### Get country info from db"
   ]
  },
  {
   "cell_type": "code",
   "execution_count": 12,
   "metadata": {},
   "outputs": [
    {
     "data": {
      "text/html": [
       "<div>\n",
       "<style scoped>\n",
       "    .dataframe tbody tr th:only-of-type {\n",
       "        vertical-align: middle;\n",
       "    }\n",
       "\n",
       "    .dataframe tbody tr th {\n",
       "        vertical-align: top;\n",
       "    }\n",
       "\n",
       "    .dataframe thead th {\n",
       "        text-align: right;\n",
       "    }\n",
       "</style>\n",
       "<table border=\"1\" class=\"dataframe\">\n",
       "  <thead>\n",
       "    <tr style=\"text-align: right;\">\n",
       "      <th></th>\n",
       "      <th>card_id</th>\n",
       "      <th>ip_country</th>\n",
       "    </tr>\n",
       "  </thead>\n",
       "  <tbody>\n",
       "    <tr>\n",
       "      <th>0</th>\n",
       "      <td>1492866731</td>\n",
       "      <td>CZ</td>\n",
       "    </tr>\n",
       "    <tr>\n",
       "      <th>1</th>\n",
       "      <td>1508145460</td>\n",
       "      <td>VE</td>\n",
       "    </tr>\n",
       "    <tr>\n",
       "      <th>2</th>\n",
       "      <td>1488642434</td>\n",
       "      <td>MX</td>\n",
       "    </tr>\n",
       "    <tr>\n",
       "      <th>3</th>\n",
       "      <td>1498663410</td>\n",
       "      <td>HR</td>\n",
       "    </tr>\n",
       "    <tr>\n",
       "      <th>4</th>\n",
       "      <td>1502538662</td>\n",
       "      <td>FR</td>\n",
       "    </tr>\n",
       "  </tbody>\n",
       "</table>\n",
       "</div>"
      ],
      "text/plain": [
       "      card_id ip_country\n",
       "0  1492866731         CZ\n",
       "1  1508145460         VE\n",
       "2  1488642434         MX\n",
       "3  1498663410         HR\n",
       "4  1502538662         FR"
      ]
     },
     "execution_count": 12,
     "metadata": {},
     "output_type": "execute_result"
    }
   ],
   "source": [
    "country = pd.read_sql_query('''\n",
    "                            select card_id,\n",
    "                            ip_country\n",
    "                            from customers;\n",
    "                            ''', db)\n",
    "country.head()"
   ]
  },
  {
   "cell_type": "code",
   "execution_count": 13,
   "metadata": {},
   "outputs": [
    {
     "name": "stdout",
     "output_type": "stream",
     "text": [
      "<class 'pandas.core.frame.DataFrame'>\n",
      "Int64Index: 322 entries, 0 to 321\n",
      "Data columns (total 11 columns):\n",
      " #   Column      Non-Null Count  Dtype \n",
      "---  ------      --------------  ----- \n",
      " 0   created_at  322 non-null    object\n",
      " 1   Currnecy    322 non-null    object\n",
      " 2   Amount      322 non-null    int64 \n",
      " 3   Masked CCN  322 non-null    object\n",
      " 4   Card Brans  322 non-null    object\n",
      " 5   ARN         194 non-null    object\n",
      " 6   bin_last_4  322 non-null    int64 \n",
      " 7   bin_last    322 non-null    int64 \n",
      " 8   card_id     322 non-null    int64 \n",
      " 9   chargeback  322 non-null    int64 \n",
      " 10  ip_country  322 non-null    object\n",
      "dtypes: int64(5), object(6)\n",
      "memory usage: 30.2+ KB\n"
     ]
    }
   ],
   "source": [
    "# Append countries values to the charbx dataset\n",
    "chargebacks = pd.merge(chargebx, country, on='card_id', how='inner')\n",
    "chargebacks.info()"
   ]
  },
  {
   "cell_type": "code",
   "execution_count": 14,
   "metadata": {},
   "outputs": [
    {
     "name": "stdout",
     "output_type": "stream",
     "text": [
      "<class 'pandas.core.frame.DataFrame'>\n",
      "Int64Index: 322 entries, 0 to 321\n",
      "Data columns (total 11 columns):\n",
      " #   Column      Non-Null Count  Dtype \n",
      "---  ------      --------------  ----- \n",
      " 0   created_at  322 non-null    object\n",
      " 1   Currnecy    322 non-null    object\n",
      " 2   Amount      322 non-null    int64 \n",
      " 3   Masked CCN  322 non-null    object\n",
      " 4   Card Brans  322 non-null    object\n",
      " 5   ARN         194 non-null    object\n",
      " 6   bin_last_4  322 non-null    int64 \n",
      " 7   bin_last    322 non-null    int64 \n",
      " 8   card_id     322 non-null    int64 \n",
      " 9   chargeback  322 non-null    int64 \n",
      " 10  ip_country  322 non-null    object\n",
      "dtypes: int64(5), object(6)\n",
      "memory usage: 30.2+ KB\n"
     ]
    }
   ],
   "source": [
    "# Append countries values to the chargebx dataset\n",
    "chargebacks = pd.merge(chargebx, country, on='card_id', how='inner')\n",
    "chargebacks.info()"
   ]
  },
  {
   "cell_type": "markdown",
   "metadata": {},
   "source": [
    "*****************************************************************************************"
   ]
  },
  {
   "cell_type": "markdown",
   "metadata": {},
   "source": [
    "#### Get & review transaction db data"
   ]
  },
  {
   "cell_type": "code",
   "execution_count": 68,
   "metadata": {
    "scrolled": true
   },
   "outputs": [
    {
     "data": {
      "text/html": [
       "<div>\n",
       "<style scoped>\n",
       "    .dataframe tbody tr th:only-of-type {\n",
       "        vertical-align: middle;\n",
       "    }\n",
       "\n",
       "    .dataframe tbody tr th {\n",
       "        vertical-align: top;\n",
       "    }\n",
       "\n",
       "    .dataframe thead th {\n",
       "        text-align: right;\n",
       "    }\n",
       "</style>\n",
       "<table border=\"1\" class=\"dataframe\">\n",
       "  <thead>\n",
       "    <tr style=\"text-align: right;\">\n",
       "      <th></th>\n",
       "      <th>id</th>\n",
       "      <th>created_at</th>\n",
       "      <th>succes</th>\n",
       "      <th>amount</th>\n",
       "      <th>currency</th>\n",
       "      <th>acq_tid</th>\n",
       "      <th>card_id</th>\n",
       "      <th>cb</th>\n",
       "    </tr>\n",
       "  </thead>\n",
       "  <tbody>\n",
       "    <tr>\n",
       "      <th>0</th>\n",
       "      <td>1507276519</td>\n",
       "      <td>2017-10-06 09:55:19</td>\n",
       "      <td>1</td>\n",
       "      <td>1300</td>\n",
       "      <td>USD</td>\n",
       "      <td>2DD77FW7-1507276519-100375145-6UDOLBNLXD</td>\n",
       "      <td>1492866731</td>\n",
       "      <td>0</td>\n",
       "    </tr>\n",
       "    <tr>\n",
       "      <th>1</th>\n",
       "      <td>1512262637</td>\n",
       "      <td>2017-12-03 01:57:17</td>\n",
       "      <td>1</td>\n",
       "      <td>400</td>\n",
       "      <td>USD</td>\n",
       "      <td>2DD77FW7-1512262637-100375145-5JEOCILQ7T</td>\n",
       "      <td>1492866731</td>\n",
       "      <td>0</td>\n",
       "    </tr>\n",
       "    <tr>\n",
       "      <th>2</th>\n",
       "      <td>1509745157</td>\n",
       "      <td>2017-11-03 22:39:17</td>\n",
       "      <td>0</td>\n",
       "      <td>3100</td>\n",
       "      <td>USD</td>\n",
       "      <td>2DD77FW7-1509745157-100375982-BTT12YQNUZ</td>\n",
       "      <td>1492866731</td>\n",
       "      <td>0</td>\n",
       "    </tr>\n",
       "    <tr>\n",
       "      <th>3</th>\n",
       "      <td>1507921724</td>\n",
       "      <td>2017-10-13 21:08:44</td>\n",
       "      <td>1</td>\n",
       "      <td>1300</td>\n",
       "      <td>EUR</td>\n",
       "      <td>2DD77FW7-1507921724-100375856-TRGTYMVYHO</td>\n",
       "      <td>1508145460</td>\n",
       "      <td>0</td>\n",
       "    </tr>\n",
       "    <tr>\n",
       "      <th>4</th>\n",
       "      <td>1514277559</td>\n",
       "      <td>2017-12-26 09:39:19</td>\n",
       "      <td>0</td>\n",
       "      <td>900</td>\n",
       "      <td>USD</td>\n",
       "      <td>2DD77FW7-1514277559-100632165-2IGY9D935C</td>\n",
       "      <td>1508145460</td>\n",
       "      <td>0</td>\n",
       "    </tr>\n",
       "    <tr>\n",
       "      <th>...</th>\n",
       "      <td>...</td>\n",
       "      <td>...</td>\n",
       "      <td>...</td>\n",
       "      <td>...</td>\n",
       "      <td>...</td>\n",
       "      <td>...</td>\n",
       "      <td>...</td>\n",
       "      <td>...</td>\n",
       "    </tr>\n",
       "    <tr>\n",
       "      <th>34882</th>\n",
       "      <td>1509344162</td>\n",
       "      <td>2017-10-30 07:16:02</td>\n",
       "      <td>0</td>\n",
       "      <td>1100</td>\n",
       "      <td>EUR</td>\n",
       "      <td>2DD77FW7-1509344162-100375982-MLL5EI46VB</td>\n",
       "      <td>1486963470</td>\n",
       "      <td>0</td>\n",
       "    </tr>\n",
       "    <tr>\n",
       "      <th>34883</th>\n",
       "      <td>1508247730</td>\n",
       "      <td>2017-10-17 15:42:10</td>\n",
       "      <td>1</td>\n",
       "      <td>500</td>\n",
       "      <td>USD</td>\n",
       "      <td>2DD77FW7-1508247730-100375982-EC6TWNFBKG</td>\n",
       "      <td>1486963470</td>\n",
       "      <td>0</td>\n",
       "    </tr>\n",
       "    <tr>\n",
       "      <th>34884</th>\n",
       "      <td>1511906262</td>\n",
       "      <td>2017-11-28 22:57:42</td>\n",
       "      <td>1</td>\n",
       "      <td>2000</td>\n",
       "      <td>EUR</td>\n",
       "      <td>2DD77FW7-1511906262-100632165-L910QUP8H3</td>\n",
       "      <td>1486963470</td>\n",
       "      <td>0</td>\n",
       "    </tr>\n",
       "    <tr>\n",
       "      <th>34885</th>\n",
       "      <td>1507232561</td>\n",
       "      <td>2017-10-05 21:42:41</td>\n",
       "      <td>1</td>\n",
       "      <td>1900</td>\n",
       "      <td>USD</td>\n",
       "      <td>2DD77FW7-1507232561-100375856-XDYEYEG4RD</td>\n",
       "      <td>1486963470</td>\n",
       "      <td>0</td>\n",
       "    </tr>\n",
       "    <tr>\n",
       "      <th>34886</th>\n",
       "      <td>1509141794</td>\n",
       "      <td>2017-10-28 00:03:14</td>\n",
       "      <td>0</td>\n",
       "      <td>1600</td>\n",
       "      <td>EUR</td>\n",
       "      <td>2DD77FW7-1509141794-110034742-RIJLX2MRZX</td>\n",
       "      <td>1486963470</td>\n",
       "      <td>0</td>\n",
       "    </tr>\n",
       "  </tbody>\n",
       "</table>\n",
       "<p>34887 rows × 8 columns</p>\n",
       "</div>"
      ],
      "text/plain": [
       "               id           created_at  succes  amount currency  \\\n",
       "0      1507276519  2017-10-06 09:55:19       1    1300      USD   \n",
       "1      1512262637  2017-12-03 01:57:17       1     400      USD   \n",
       "2      1509745157  2017-11-03 22:39:17       0    3100      USD   \n",
       "3      1507921724  2017-10-13 21:08:44       1    1300      EUR   \n",
       "4      1514277559  2017-12-26 09:39:19       0     900      USD   \n",
       "...           ...                  ...     ...     ...      ...   \n",
       "34882  1509344162  2017-10-30 07:16:02       0    1100      EUR   \n",
       "34883  1508247730  2017-10-17 15:42:10       1     500      USD   \n",
       "34884  1511906262  2017-11-28 22:57:42       1    2000      EUR   \n",
       "34885  1507232561  2017-10-05 21:42:41       1    1900      USD   \n",
       "34886  1509141794  2017-10-28 00:03:14       0    1600      EUR   \n",
       "\n",
       "                                        acq_tid     card_id  cb  \n",
       "0      2DD77FW7-1507276519-100375145-6UDOLBNLXD  1492866731   0  \n",
       "1      2DD77FW7-1512262637-100375145-5JEOCILQ7T  1492866731   0  \n",
       "2      2DD77FW7-1509745157-100375982-BTT12YQNUZ  1492866731   0  \n",
       "3      2DD77FW7-1507921724-100375856-TRGTYMVYHO  1508145460   0  \n",
       "4      2DD77FW7-1514277559-100632165-2IGY9D935C  1508145460   0  \n",
       "...                                         ...         ...  ..  \n",
       "34882  2DD77FW7-1509344162-100375982-MLL5EI46VB  1486963470   0  \n",
       "34883  2DD77FW7-1508247730-100375982-EC6TWNFBKG  1486963470   0  \n",
       "34884  2DD77FW7-1511906262-100632165-L910QUP8H3  1486963470   0  \n",
       "34885  2DD77FW7-1507232561-100375856-XDYEYEG4RD  1486963470   0  \n",
       "34886  2DD77FW7-1509141794-110034742-RIJLX2MRZX  1486963470   0  \n",
       "\n",
       "[34887 rows x 8 columns]"
      ]
     },
     "execution_count": 68,
     "metadata": {},
     "output_type": "execute_result"
    }
   ],
   "source": [
    "# get all transactons from database, deduplicate\n",
    "trans_q = pd.read_sql_query('select * from transactions', db)\n",
    "trans_q"
   ]
  },
  {
   "cell_type": "code",
   "execution_count": 69,
   "metadata": {
    "scrolled": true
   },
   "outputs": [
    {
     "name": "stdout",
     "output_type": "stream",
     "text": [
      "<class 'pandas.core.frame.DataFrame'>\n",
      "RangeIndex: 34887 entries, 0 to 34886\n",
      "Data columns (total 8 columns):\n",
      " #   Column      Non-Null Count  Dtype \n",
      "---  ------      --------------  ----- \n",
      " 0   id          34887 non-null  int64 \n",
      " 1   created_at  34887 non-null  object\n",
      " 2   succes      34887 non-null  int64 \n",
      " 3   amount      34887 non-null  int64 \n",
      " 4   currency    34887 non-null  object\n",
      " 5   acq_tid     34887 non-null  object\n",
      " 6   card_id     34887 non-null  int64 \n",
      " 7   cb          34887 non-null  int64 \n",
      "dtypes: int64(5), object(3)\n",
      "memory usage: 2.1+ MB\n"
     ]
    },
    {
     "data": {
      "text/plain": [
       "(34887, 8)"
      ]
     },
     "execution_count": 69,
     "metadata": {},
     "output_type": "execute_result"
    }
   ],
   "source": [
    "# get dataset shape\n",
    "trans_q.info()\n",
    "trans_q.shape"
   ]
  },
  {
   "cell_type": "markdown",
   "metadata": {},
   "source": [
    "#### Understand cb cell"
   ]
  },
  {
   "cell_type": "code",
   "execution_count": 17,
   "metadata": {},
   "outputs": [
    {
     "data": {
      "text/plain": [
       "1"
      ]
     },
     "execution_count": 17,
     "metadata": {},
     "output_type": "execute_result"
    }
   ],
   "source": [
    "trans_q.cb.nunique()"
   ]
  },
  {
   "cell_type": "code",
   "execution_count": 18,
   "metadata": {},
   "outputs": [
    {
     "data": {
      "text/plain": [
       "0    34887\n",
       "Name: cb, dtype: int64"
      ]
     },
     "execution_count": 18,
     "metadata": {},
     "output_type": "execute_result"
    }
   ],
   "source": [
    "trans_q.cb.value_counts()"
   ]
  },
  {
   "cell_type": "markdown",
   "metadata": {},
   "source": [
    "#### Understand success cell"
   ]
  },
  {
   "cell_type": "code",
   "execution_count": 19,
   "metadata": {},
   "outputs": [
    {
     "data": {
      "text/plain": [
       "1    0.630349\n",
       "0    0.369651\n",
       "Name: succes, dtype: float64"
      ]
     },
     "execution_count": 19,
     "metadata": {},
     "output_type": "execute_result"
    }
   ],
   "source": [
    "# success ratio\n",
    "trans_q.succes.value_counts(dropna=False)\n",
    "trans_q.succes.value_counts(normalize=True)"
   ]
  },
  {
   "cell_type": "code",
   "execution_count": 20,
   "metadata": {},
   "outputs": [
    {
     "name": "stdout",
     "output_type": "stream",
     "text": [
      "<class 'pandas.core.frame.DataFrame'>\n",
      "Int64Index: 34887 entries, 0 to 34886\n",
      "Data columns (total 16 columns):\n",
      " #   Column      Non-Null Count  Dtype  \n",
      "---  ------      --------------  -----  \n",
      " 0   id          34887 non-null  int64  \n",
      " 1   created_at  34887 non-null  object \n",
      " 2   succes      34887 non-null  int64  \n",
      " 3   amount      34887 non-null  int64  \n",
      " 4   currency    34887 non-null  object \n",
      " 5   acq_tid     34887 non-null  object \n",
      " 6   card_id     34887 non-null  int64  \n",
      " 7   cb          34887 non-null  int64  \n",
      " 8   Currnecy    318 non-null    object \n",
      " 9   Amount      318 non-null    float64\n",
      " 10  Masked CCN  318 non-null    object \n",
      " 11  Card Brans  318 non-null    object \n",
      " 12  ARN         193 non-null    object \n",
      " 13  bin_last_4  318 non-null    float64\n",
      " 14  bin_last    318 non-null    float64\n",
      " 15  chargeback  318 non-null    float64\n",
      "dtypes: float64(4), int64(5), object(7)\n",
      "memory usage: 4.5+ MB\n"
     ]
    }
   ],
   "source": [
    "# extract card ids based on bin & last_4 card data\n",
    "transax = pd.merge(trans_q, chargebx, on=['created_at', 'card_id'], how='left')\n",
    "transax.info()"
   ]
  },
  {
   "cell_type": "code",
   "execution_count": 21,
   "metadata": {},
   "outputs": [
    {
     "data": {
      "text/html": [
       "<div>\n",
       "<style scoped>\n",
       "    .dataframe tbody tr th:only-of-type {\n",
       "        vertical-align: middle;\n",
       "    }\n",
       "\n",
       "    .dataframe tbody tr th {\n",
       "        vertical-align: top;\n",
       "    }\n",
       "\n",
       "    .dataframe thead th {\n",
       "        text-align: right;\n",
       "    }\n",
       "</style>\n",
       "<table border=\"1\" class=\"dataframe\">\n",
       "  <thead>\n",
       "    <tr style=\"text-align: right;\">\n",
       "      <th></th>\n",
       "      <th>id</th>\n",
       "      <th>created_at</th>\n",
       "      <th>succes</th>\n",
       "      <th>amount</th>\n",
       "      <th>currency</th>\n",
       "      <th>acq_tid</th>\n",
       "      <th>card_id</th>\n",
       "      <th>cb</th>\n",
       "      <th>Currnecy</th>\n",
       "      <th>Amount</th>\n",
       "      <th>Masked CCN</th>\n",
       "      <th>Card Brans</th>\n",
       "      <th>ARN</th>\n",
       "      <th>bin_last_4</th>\n",
       "      <th>bin_last</th>\n",
       "      <th>chargeback</th>\n",
       "    </tr>\n",
       "  </thead>\n",
       "  <tbody>\n",
       "    <tr>\n",
       "      <th>13601</th>\n",
       "      <td>1510565911</td>\n",
       "      <td>2017-11-13 10:38:31</td>\n",
       "      <td>0</td>\n",
       "      <td>400</td>\n",
       "      <td>EUR</td>\n",
       "      <td>2DD77FW7-1510565911-100632165-3NPBMSKZCF</td>\n",
       "      <td>1511232263</td>\n",
       "      <td>0</td>\n",
       "      <td>NaN</td>\n",
       "      <td>NaN</td>\n",
       "      <td>NaN</td>\n",
       "      <td>NaN</td>\n",
       "      <td>NaN</td>\n",
       "      <td>NaN</td>\n",
       "      <td>NaN</td>\n",
       "      <td>NaN</td>\n",
       "    </tr>\n",
       "    <tr>\n",
       "      <th>16662</th>\n",
       "      <td>1507920281</td>\n",
       "      <td>2017-10-13 20:44:41</td>\n",
       "      <td>1</td>\n",
       "      <td>700</td>\n",
       "      <td>USD</td>\n",
       "      <td>2DD77FW7-1507920281-100375856-KAY7TEU4UK</td>\n",
       "      <td>1501135827</td>\n",
       "      <td>0</td>\n",
       "      <td>NaN</td>\n",
       "      <td>NaN</td>\n",
       "      <td>NaN</td>\n",
       "      <td>NaN</td>\n",
       "      <td>NaN</td>\n",
       "      <td>NaN</td>\n",
       "      <td>NaN</td>\n",
       "      <td>NaN</td>\n",
       "    </tr>\n",
       "    <tr>\n",
       "      <th>11638</th>\n",
       "      <td>1512211079</td>\n",
       "      <td>2017-12-02 11:37:59</td>\n",
       "      <td>1</td>\n",
       "      <td>1800</td>\n",
       "      <td>EUR</td>\n",
       "      <td>2DD77FW7-1512211079-100375856-PPN7R0OTVJ</td>\n",
       "      <td>1494595410</td>\n",
       "      <td>0</td>\n",
       "      <td>NaN</td>\n",
       "      <td>NaN</td>\n",
       "      <td>NaN</td>\n",
       "      <td>NaN</td>\n",
       "      <td>NaN</td>\n",
       "      <td>NaN</td>\n",
       "      <td>NaN</td>\n",
       "      <td>NaN</td>\n",
       "    </tr>\n",
       "  </tbody>\n",
       "</table>\n",
       "</div>"
      ],
      "text/plain": [
       "               id           created_at  succes  amount currency  \\\n",
       "13601  1510565911  2017-11-13 10:38:31       0     400      EUR   \n",
       "16662  1507920281  2017-10-13 20:44:41       1     700      USD   \n",
       "11638  1512211079  2017-12-02 11:37:59       1    1800      EUR   \n",
       "\n",
       "                                        acq_tid     card_id  cb Currnecy  \\\n",
       "13601  2DD77FW7-1510565911-100632165-3NPBMSKZCF  1511232263   0      NaN   \n",
       "16662  2DD77FW7-1507920281-100375856-KAY7TEU4UK  1501135827   0      NaN   \n",
       "11638  2DD77FW7-1512211079-100375856-PPN7R0OTVJ  1494595410   0      NaN   \n",
       "\n",
       "       Amount Masked CCN Card Brans  ARN  bin_last_4  bin_last  chargeback  \n",
       "13601     NaN        NaN        NaN  NaN         NaN       NaN         NaN  \n",
       "16662     NaN        NaN        NaN  NaN         NaN       NaN         NaN  \n",
       "11638     NaN        NaN        NaN  NaN         NaN       NaN         NaN  "
      ]
     },
     "execution_count": 21,
     "metadata": {},
     "output_type": "execute_result"
    }
   ],
   "source": [
    "transax.loc[transax['chargeback'] == 1]\n",
    "transax.sample(3)"
   ]
  },
  {
   "cell_type": "code",
   "execution_count": null,
   "metadata": {},
   "outputs": [],
   "source": [
    "# temp = pr.read_sql_query('create temporaty table temp_transactions', db)"
   ]
  },
  {
   "cell_type": "code",
   "execution_count": 22,
   "metadata": {
    "scrolled": true
   },
   "outputs": [
    {
     "name": "stdout",
     "output_type": "stream",
     "text": [
      "<class 'pandas.core.frame.DataFrame'>\n",
      "Int64Index: 34887 entries, 0 to 34886\n",
      "Data columns (total 14 columns):\n",
      " #   Column      Non-Null Count  Dtype \n",
      "---  ------      --------------  ----- \n",
      " 0   t_id        34887 non-null  int64 \n",
      " 1   created_at  34887 non-null  object\n",
      " 2   succes      34887 non-null  int64 \n",
      " 3   t_amount    34887 non-null  int64 \n",
      " 4   t_curr      34887 non-null  object\n",
      " 5   acq_tid     34887 non-null  object\n",
      " 6   card_id     34887 non-null  int64 \n",
      " 7   cback_curr  34887 non-null  object\n",
      " 8   cback_amnt  34887 non-null  Int64 \n",
      " 9   c_brand     34887 non-null  object\n",
      " 10  ARN         34887 non-null  object\n",
      " 11  bin_last    34887 non-null  object\n",
      " 12  chargeback  34887 non-null  Int64 \n",
      " 13  ip_country  34887 non-null  object\n",
      "dtypes: Int64(2), int64(4), object(8)\n",
      "memory usage: 4.1+ MB\n"
     ]
    }
   ],
   "source": [
    "# dataset clean-up [data types, columns names, delete]\n",
    "# transax = pd.merge(trans_q, country, on='card_id', how='inner')\n",
    "transax = pd.merge(trans_q, chargebx, on=['created_at', 'card_id'], how='left')\n",
    "transax = transax.fillna('')\n",
    "transax['chargeback'] = transax['chargeback'].replace(r'^\\s*$', 0, regex=True).astype('Int64')\n",
    "transax['Amount'] = transax['Amount'].replace(r'^\\s*$', 0, regex=True).astype('Int64')\n",
    "\n",
    "transax.rename(columns=\n",
    "               {\n",
    "                   'id': 't_id',\n",
    "                   'amount': 't_amount',\n",
    "                   'currency': 't_curr',\n",
    "                   'Currnecy': 'cback_curr',\n",
    "                   'Amount': 'cback_amnt',\n",
    "                   'Card Brans': 'c_brand'\n",
    "               }, inplace=True\n",
    "              )\n",
    "transax.drop(['cb', 'Masked CCN', 'bin_last_4'], axis=1, inplace=True)\n",
    "transax['cback_amnt'] = transax['cback_amnt']\n",
    "# dataset check\n",
    "transax = pd.merge(transax, country, on='card_id', how='inner')\n",
    "transax.info()"
   ]
  },
  {
   "cell_type": "code",
   "execution_count": 86,
   "metadata": {},
   "outputs": [
    {
     "name": "stdout",
     "output_type": "stream",
     "text": [
      "<class 'pandas.core.frame.DataFrame'>\n",
      "Int64Index: 1528 entries, 0 to 1527\n",
      "Data columns (total 11 columns):\n",
      " #   Column        Non-Null Count  Dtype \n",
      "---  ------        --------------  ----- \n",
      " 0   id            1528 non-null   int64 \n",
      " 1   t_created_at  1528 non-null   object\n",
      " 2   succes        1528 non-null   int64 \n",
      " 3   amount        1528 non-null   int64 \n",
      " 4   currency      1528 non-null   object\n",
      " 5   acq_tid       1528 non-null   object\n",
      " 6   card_id       1528 non-null   int64 \n",
      " 7   created_at    1528 non-null   object\n",
      " 8   Currnecy      1528 non-null   object\n",
      " 9   Amount        1528 non-null   int64 \n",
      " 10  Card Brans    1528 non-null   object\n",
      "dtypes: int64(5), object(6)\n",
      "memory usage: 143.2+ KB\n"
     ]
    }
   ],
   "source": [
    "chback_cards = pd.merge(trans_q, chargebx, on=['card_id'], how='inner')\n",
    "\n",
    "chback_cards.rename(columns=\n",
    "               {\n",
    "                   'created_at_x': 't_created_at',\n",
    "                   'created_at_y': 'created_at'\n",
    "\n",
    "               }, inplace=True)\n",
    "chback_cards.drop(['cb', 'Masked CCN', 'bin_last_4', 'bin_last', 'chargeback', 'ARN'], axis=1, inplace=True)\n",
    "chback_cards.info()\n",
    "chback_cards.to_csv('../output/chback_cards.csv')"
   ]
  },
  {
   "cell_type": "markdown",
   "metadata": {},
   "source": [
    "********************************************************************************"
   ]
  },
  {
   "cell_type": "markdown",
   "metadata": {},
   "source": [
    "### Data Analysis "
   ]
  },
  {
   "cell_type": "markdown",
   "metadata": {},
   "source": [
    "Chargebacks counts"
   ]
  },
  {
   "cell_type": "code",
   "execution_count": 23,
   "metadata": {},
   "outputs": [
    {
     "data": {
      "text/plain": [
       "chargeback\n",
       "0    34569\n",
       "1      318\n",
       "dtype: int64"
      ]
     },
     "execution_count": 23,
     "metadata": {},
     "output_type": "execute_result"
    }
   ],
   "source": [
    "transax.groupby(['chargeback']).size()\n",
    "# transax.groupby(['chargeback', 'succes'])['succes'].value_counts()\n",
    "# transax.groupby(['succes']).size()\n",
    "# transax.chargeback.value_counts(dropna=True)"
   ]
  },
  {
   "cell_type": "code",
   "execution_count": 24,
   "metadata": {},
   "outputs": [
    {
     "data": {
      "image/png": "[encoded data removed]",
      "text/plain": [
       "<Figure size 504x432 with 1 Axes>"
      ]
     },
     "metadata": {
      "needs_background": "light"
     },
     "output_type": "display_data"
    }
   ],
   "source": [
    "val = transax.chargeback.value_counts()\n",
    "# sns.set(font_scale=1.1)\n",
    "transax.chargeback.value_counts(dropna=True).plot(kind='bar', figsize=(7, 6), rot=0);\n",
    "sns.barplot(x=val.index, y=val.values);"
   ]
  },
  {
   "cell_type": "markdown",
   "metadata": {},
   "source": [
    "% Chargeback rate for Q4"
   ]
  },
  {
   "cell_type": "code",
   "execution_count": 25,
   "metadata": {},
   "outputs": [
    {
     "data": {
      "text/plain": [
       "0    99.1%\n",
       "1     0.9%\n",
       "Name: chargeback, dtype: object"
      ]
     },
     "execution_count": 25,
     "metadata": {},
     "output_type": "execute_result"
    }
   ],
   "source": [
    "transax.chargeback.value_counts(normalize=True).mul(100).round(1).astype(str) + '%'"
   ]
  },
  {
   "cell_type": "code",
   "execution_count": 26,
   "metadata": {},
   "outputs": [
    {
     "data": {
      "image/png": "[encoded data removed]",
      "text/plain": [
       "<Figure size 432x288 with 1 Axes>"
      ]
     },
     "metadata": {
      "needs_background": "light"
     },
     "output_type": "display_data"
    }
   ],
   "source": [
    "# Percentage distribution\n",
    "prcent = transax.chargeback.value_counts(normalize=True).mul(100).round(1)\n",
    "sns.barplot(x=prcent, y=prcent, color='lightblue', alpha=0.8);"
   ]
  },
  {
   "cell_type": "markdown",
   "metadata": {},
   "source": [
    "#### Chargebacks data from transax dataframe"
   ]
  },
  {
   "cell_type": "code",
   "execution_count": 27,
   "metadata": {},
   "outputs": [
    {
     "name": "stdout",
     "output_type": "stream",
     "text": [
      "<class 'pandas.core.frame.DataFrame'>\n",
      "Int64Index: 318 entries, 100 to 34701\n",
      "Data columns (total 14 columns):\n",
      " #   Column      Non-Null Count  Dtype \n",
      "---  ------      --------------  ----- \n",
      " 0   t_id        318 non-null    int64 \n",
      " 1   created_at  318 non-null    object\n",
      " 2   succes      318 non-null    int64 \n",
      " 3   t_amount    318 non-null    int64 \n",
      " 4   t_curr      318 non-null    object\n",
      " 5   acq_tid     318 non-null    object\n",
      " 6   card_id     318 non-null    int64 \n",
      " 7   cback_curr  318 non-null    object\n",
      " 8   cback_amnt  318 non-null    Int64 \n",
      " 9   c_brand     318 non-null    object\n",
      " 10  ARN         318 non-null    object\n",
      " 11  bin_last    318 non-null    object\n",
      " 12  chargeback  318 non-null    Int64 \n",
      " 13  ip_country  318 non-null    object\n",
      "dtypes: Int64(2), int64(4), object(8)\n",
      "memory usage: 37.9+ KB\n"
     ]
    }
   ],
   "source": [
    "# create updated chargeback data\n",
    "charbx = transax.loc[transax['chargeback']==1]\n",
    "# charbx['cback_amnt'] = charbx['cback_amnt'].astype('int64')\n",
    "charbx.info()"
   ]
  },
  {
   "cell_type": "markdown",
   "metadata": {},
   "source": [
    "#### Chargebacks Cards analysis"
   ]
  },
  {
   "cell_type": "code",
   "execution_count": 28,
   "metadata": {},
   "outputs": [
    {
     "data": {
      "text/plain": [
       "visa          193\n",
       "mastercard    125\n",
       "Name: c_brand, dtype: int64"
      ]
     },
     "execution_count": 28,
     "metadata": {},
     "output_type": "execute_result"
    }
   ],
   "source": [
    "# Cards distribution in chargebacks.\n",
    "charbx.c_brand.value_counts()"
   ]
  },
  {
   "cell_type": "code",
   "execution_count": 29,
   "metadata": {},
   "outputs": [
    {
     "data": {
      "text/plain": [
       "visa          60.7%\n",
       "mastercard    39.3%\n",
       "Name: c_brand, dtype: object"
      ]
     },
     "execution_count": 29,
     "metadata": {},
     "output_type": "execute_result"
    }
   ],
   "source": [
    "# %\n",
    "charbx.c_brand.value_counts(normalize=True).mul(100).round(1).astype(str) + '%'"
   ]
  },
  {
   "cell_type": "markdown",
   "metadata": {},
   "source": [
    "#### Customers overview data"
   ]
  },
  {
   "cell_type": "code",
   "execution_count": 32,
   "metadata": {},
   "outputs": [],
   "source": [
    "# get customer info form db, create dataframe\n",
    "custmr_q = pd.read_sql_query('''select * from customers;''', db)"
   ]
  },
  {
   "cell_type": "code",
   "execution_count": 33,
   "metadata": {},
   "outputs": [
    {
     "name": "stdout",
     "output_type": "stream",
     "text": [
      "<class 'pandas.core.frame.DataFrame'>\n",
      "RangeIndex: 9997 entries, 0 to 9996\n",
      "Data columns (total 6 columns):\n",
      " #   Column      Non-Null Count  Dtype \n",
      "---  ------      --------------  ----- \n",
      " 0   id          9997 non-null   int64 \n",
      " 1   card_id     9997 non-null   int64 \n",
      " 2   name        9997 non-null   object\n",
      " 3   email       9997 non-null   object\n",
      " 4   ip_addr     9997 non-null   object\n",
      " 5   ip_country  9997 non-null   object\n",
      "dtypes: int64(2), object(4)\n",
      "memory usage: 468.7+ KB\n"
     ]
    }
   ],
   "source": [
    "# dataframe info\n",
    "customers = custmr_q.drop(['created_at'], axis=1)\n",
    "customers.info()"
   ]
  },
  {
   "cell_type": "code",
   "execution_count": 34,
   "metadata": {},
   "outputs": [
    {
     "data": {
      "text/html": [
       "<div>\n",
       "<style scoped>\n",
       "    .dataframe tbody tr th:only-of-type {\n",
       "        vertical-align: middle;\n",
       "    }\n",
       "\n",
       "    .dataframe tbody tr th {\n",
       "        vertical-align: top;\n",
       "    }\n",
       "\n",
       "    .dataframe thead th {\n",
       "        text-align: right;\n",
       "    }\n",
       "</style>\n",
       "<table border=\"1\" class=\"dataframe\">\n",
       "  <thead>\n",
       "    <tr style=\"text-align: right;\">\n",
       "      <th></th>\n",
       "      <th>id</th>\n",
       "      <th>card_id</th>\n",
       "      <th>name</th>\n",
       "      <th>email</th>\n",
       "      <th>ip_addr</th>\n",
       "      <th>ip_country</th>\n",
       "    </tr>\n",
       "  </thead>\n",
       "  <tbody>\n",
       "    <tr>\n",
       "      <th>8597</th>\n",
       "      <td>1508238108</td>\n",
       "      <td>1508238107</td>\n",
       "      <td>Madge Abbott</td>\n",
       "      <td>madge_abbott@gmail.com</td>\n",
       "      <td>208.31.49.20</td>\n",
       "      <td>TZ</td>\n",
       "    </tr>\n",
       "    <tr>\n",
       "      <th>1655</th>\n",
       "      <td>1491516582</td>\n",
       "      <td>1491516581</td>\n",
       "      <td>Deanne Seymour</td>\n",
       "      <td>deanne_seym@gmail.com</td>\n",
       "      <td>173.48.252.181</td>\n",
       "      <td>IL</td>\n",
       "    </tr>\n",
       "    <tr>\n",
       "      <th>5478</th>\n",
       "      <td>1509458194</td>\n",
       "      <td>1509458193</td>\n",
       "      <td>Natalia Mora</td>\n",
       "      <td>mora-natalia7948@aol.com</td>\n",
       "      <td>65.182.237.55</td>\n",
       "      <td>NA</td>\n",
       "    </tr>\n",
       "  </tbody>\n",
       "</table>\n",
       "</div>"
      ],
      "text/plain": [
       "              id     card_id            name                     email  \\\n",
       "8597  1508238108  1508238107    Madge Abbott    madge_abbott@gmail.com   \n",
       "1655  1491516582  1491516581  Deanne Seymour     deanne_seym@gmail.com   \n",
       "5478  1509458194  1509458193    Natalia Mora  mora-natalia7948@aol.com   \n",
       "\n",
       "             ip_addr ip_country  \n",
       "8597    208.31.49.20         TZ  \n",
       "1655  173.48.252.181         IL  \n",
       "5478   65.182.237.55         NA  "
      ]
     },
     "execution_count": 34,
     "metadata": {},
     "output_type": "execute_result"
    }
   ],
   "source": [
    "customers.sample(3)"
   ]
  },
  {
   "cell_type": "markdown",
   "metadata": {},
   "source": [
    "#### All Unique customers"
   ]
  },
  {
   "cell_type": "code",
   "execution_count": 35,
   "metadata": {},
   "outputs": [
    {
     "data": {
      "text/plain": [
       "9997"
      ]
     },
     "execution_count": 35,
     "metadata": {},
     "output_type": "execute_result"
    }
   ],
   "source": [
    "customers['id'].nunique()"
   ]
  },
  {
   "cell_type": "markdown",
   "metadata": {},
   "source": [
    "#### Customers per country"
   ]
  },
  {
   "cell_type": "code",
   "execution_count": 36,
   "metadata": {},
   "outputs": [],
   "source": [
    "all_c = customers.groupby('ip_country')['id'].count()"
   ]
  },
  {
   "cell_type": "markdown",
   "metadata": {},
   "source": [
    "#### Countries with highest customer counts"
   ]
  },
  {
   "cell_type": "code",
   "execution_count": 37,
   "metadata": {},
   "outputs": [
    {
     "data": {
      "text/plain": [
       "ip_country\n",
       "SE    239\n",
       "PL    233\n",
       "HU    224\n",
       "BS    223\n",
       "IE    220\n",
       "ES    219\n",
       "CA    218\n",
       "NO    218\n",
       "PY    218\n",
       "MT    217\n",
       "US    217\n",
       "VE    214\n",
       "DZ    213\n",
       "NL    212\n",
       "KW    210\n",
       "MX    210\n",
       "JP    208\n",
       "KR    208\n",
       "PA    208\n",
       "KG    206\n",
       "Name: id, dtype: int64"
      ]
     },
     "execution_count": 37,
     "metadata": {},
     "output_type": "execute_result"
    }
   ],
   "source": [
    "top_10 = all_c.nlargest(20)\n",
    "top_10"
   ]
  },
  {
   "cell_type": "code",
   "execution_count": 38,
   "metadata": {},
   "outputs": [
    {
     "data": {
      "image/png": "[encoded data removed]",
      "text/plain": [
       "<Figure size 432x288 with 1 Axes>"
      ]
     },
     "metadata": {
      "needs_background": "light"
     },
     "output_type": "display_data"
    }
   ],
   "source": [
    "sns.barplot(x=top_10.index, y=top_10.values);"
   ]
  },
  {
   "cell_type": "markdown",
   "metadata": {},
   "source": [
    "**************************************"
   ]
  },
  {
   "cell_type": "markdown",
   "metadata": {},
   "source": [
    "### Chargebacks Analaysis Q4 2017"
   ]
  },
  {
   "cell_type": "markdown",
   "metadata": {},
   "source": [
    "#### Unique countries (all transactions)"
   ]
  },
  {
   "cell_type": "code",
   "execution_count": 39,
   "metadata": {},
   "outputs": [
    {
     "data": {
      "text/plain": [
       "49"
      ]
     },
     "execution_count": 39,
     "metadata": {},
     "output_type": "execute_result"
    }
   ],
   "source": [
    "transax['ip_country'].nunique()"
   ]
  },
  {
   "cell_type": "markdown",
   "metadata": {},
   "source": [
    "#### TOP 20 countries (transactions)"
   ]
  },
  {
   "cell_type": "code",
   "execution_count": 40,
   "metadata": {},
   "outputs": [
    {
     "data": {
      "text/plain": [
       "PL    854\n",
       "SE    815\n",
       "KW    781\n",
       "HU    780\n",
       "BS    776\n",
       "US    776\n",
       "MX    769\n",
       "PY    765\n",
       "CY    762\n",
       "ES    760\n",
       "MT    759\n",
       "AR    751\n",
       "CH    751\n",
       "DZ    749\n",
       "VE    748\n",
       "NL    747\n",
       "KG    746\n",
       "IE    746\n",
       "CA    745\n",
       "IT    729\n",
       "Name: ip_country, dtype: int64"
      ]
     },
     "execution_count": 40,
     "metadata": {},
     "output_type": "execute_result"
    }
   ],
   "source": [
    "t_cntry = transax['ip_country']\n",
    "tc = t_cntry.value_counts()[:20]\n",
    "tc"
   ]
  },
  {
   "cell_type": "code",
   "execution_count": 41,
   "metadata": {},
   "outputs": [
    {
     "data": {
      "image/png": "[encoded data removed]",
      "text/plain": [
       "<Figure size 432x288 with 1 Axes>"
      ]
     },
     "metadata": {
      "needs_background": "light"
     },
     "output_type": "display_data"
    }
   ],
   "source": [
    "sns.barplot(x=tc.index, y=tc.values, alpha=0.8);"
   ]
  },
  {
   "cell_type": "code",
   "execution_count": 42,
   "metadata": {},
   "outputs": [
    {
     "data": {
      "text/plain": [
       "PL    2.4\n",
       "SE    2.3\n",
       "KW    2.2\n",
       "HU    2.2\n",
       "BS    2.2\n",
       "US    2.2\n",
       "MX    2.2\n",
       "PY    2.2\n",
       "CY    2.2\n",
       "ES    2.2\n",
       "Name: ip_country, dtype: float64"
      ]
     },
     "execution_count": 42,
     "metadata": {},
     "output_type": "execute_result"
    }
   ],
   "source": [
    "tc_prc = t_cntry.value_counts(normalize=True).mul(100).round(1)[:10]\n",
    "tc_prc"
   ]
  },
  {
   "cell_type": "markdown",
   "metadata": {},
   "source": [
    "#### Unique countries (chargebacks)"
   ]
  },
  {
   "cell_type": "code",
   "execution_count": 43,
   "metadata": {},
   "outputs": [
    {
     "data": {
      "text/plain": [
       "49"
      ]
     },
     "execution_count": 43,
     "metadata": {},
     "output_type": "execute_result"
    }
   ],
   "source": [
    "charbx.ip_country.nunique()"
   ]
  },
  {
   "cell_type": "markdown",
   "metadata": {},
   "source": [
    "#### Chargebacks per country"
   ]
  },
  {
   "cell_type": "code",
   "execution_count": 44,
   "metadata": {},
   "outputs": [
    {
     "data": {
      "text/plain": [
       "PA    47\n",
       "RU    33\n",
       "TR    29\n",
       "TH    28\n",
       "NO    11\n",
       "JP     8\n",
       "PL     7\n",
       "SA     7\n",
       "NL     7\n",
       "PT     7\n",
       "Name: ip_country, dtype: int64"
      ]
     },
     "execution_count": 44,
     "metadata": {},
     "output_type": "execute_result"
    }
   ],
   "source": [
    "# pd.options.display.max_rows = 999\n",
    "\n",
    "country = charbx.ip_country.value_counts()\n",
    "country = country[:10]\n",
    "country"
   ]
  },
  {
   "cell_type": "code",
   "execution_count": 45,
   "metadata": {},
   "outputs": [
    {
     "data": {
      "image/png": "[encoded data removed]",
      "text/plain": [
       "<Figure size 432x288 with 1 Axes>"
      ]
     },
     "metadata": {
      "needs_background": "light"
     },
     "output_type": "display_data"
    }
   ],
   "source": [
    "sns.barplot(x=country.index, y=country.values, alpha=0.8);"
   ]
  },
  {
   "cell_type": "markdown",
   "metadata": {},
   "source": [
    "#### Chargeback % rate per country"
   ]
  },
  {
   "cell_type": "code",
   "execution_count": 46,
   "metadata": {
    "scrolled": true
   },
   "outputs": [
    {
     "data": {
      "text/plain": [
       "PA    14.8%\n",
       "RU    10.4%\n",
       "TR     9.1%\n",
       "TH     8.8%\n",
       "NO     3.5%\n",
       "JP     2.5%\n",
       "PL     2.2%\n",
       "SA     2.2%\n",
       "NL     2.2%\n",
       "PT     2.2%\n",
       "Name: ip_country, dtype: object"
      ]
     },
     "execution_count": 46,
     "metadata": {},
     "output_type": "execute_result"
    }
   ],
   "source": [
    "country_prc = charbx.ip_country.value_counts(normalize=True).mul(100).round(1)\n",
    "country_prc[:10].astype(str) + '%'"
   ]
  },
  {
   "cell_type": "markdown",
   "metadata": {},
   "source": [
    "#### Chargebacks per Country Transactions"
   ]
  },
  {
   "cell_type": "code",
   "execution_count": null,
   "metadata": {
    "scrolled": true
   },
   "outputs": [],
   "source": [
    "t = pd.Series(t_cntry.value_counts(), name='Transaction#')\n",
    "c = pd.Series(charbx.ip_country.value_counts(), name='Chargeback#')\n",
    "per_cntry = pd.concat([t, c], axis=1)\n",
    "per_cntry.sort_values(['Chargeback#'], ascending=[False])[:10]\n",
    "\n",
    "# percentage = per_cntry['Transaction#'].div(per_cntry['Chargeback#'].transform(lambda x: x /x.sum().mul(100)))\n",
    "per_cntry['Percentage of CHarg'] = \\\n",
    "np.where(per_cntry['Transaction#'] < 1, per_cntry['Transaction#'], \n",
    "         (per_cntry['Chargeback#']/per_cntry['Transaction#']).mul(100).round(2).astype(str)+'%')\n",
    "\n",
    "per_cntry.sort_values(['Percentage of CHarg'], ascending=False)[:10]"
   ]
  },
  {
   "cell_type": "markdown",
   "metadata": {},
   "source": [
    "****************************************************"
   ]
  },
  {
   "cell_type": "markdown",
   "metadata": {},
   "source": [
    "### Chargebacks Cards Analysis"
   ]
  },
  {
   "cell_type": "markdown",
   "metadata": {},
   "source": [
    "#### Top Cards"
   ]
  },
  {
   "cell_type": "code",
   "execution_count": 47,
   "metadata": {},
   "outputs": [
    {
     "data": {
      "text/plain": [
       "card_id\n",
       "1486952657    6\n",
       "1494920868    6\n",
       "1514084474    6\n",
       "1502600050    5\n",
       "1500719479    5\n",
       "dtype: int64"
      ]
     },
     "execution_count": 47,
     "metadata": {},
     "output_type": "execute_result"
    }
   ],
   "source": [
    "chargebacks_per_crd = charbx.groupby('card_id').size()\n",
    "chargebacks_per_crd.sort_values(ascending=False)[:5]"
   ]
  },
  {
   "cell_type": "markdown",
   "metadata": {},
   "source": [
    "#### # of Cards"
   ]
  },
  {
   "cell_type": "code",
   "execution_count": 48,
   "metadata": {},
   "outputs": [
    {
     "data": {
      "text/plain": [
       "205"
      ]
     },
     "execution_count": 48,
     "metadata": {},
     "output_type": "execute_result"
    }
   ],
   "source": [
    "chargebacks_per_crd.count()"
   ]
  },
  {
   "cell_type": "markdown",
   "metadata": {},
   "source": [
    "#### Top Cards Countries"
   ]
  },
  {
   "cell_type": "code",
   "execution_count": 49,
   "metadata": {},
   "outputs": [
    {
     "data": {
      "text/html": [
       "<div>\n",
       "<style scoped>\n",
       "    .dataframe tbody tr th:only-of-type {\n",
       "        vertical-align: middle;\n",
       "    }\n",
       "\n",
       "    .dataframe tbody tr th {\n",
       "        vertical-align: top;\n",
       "    }\n",
       "\n",
       "    .dataframe thead th {\n",
       "        text-align: right;\n",
       "    }\n",
       "</style>\n",
       "<table border=\"1\" class=\"dataframe\">\n",
       "  <thead>\n",
       "    <tr style=\"text-align: right;\">\n",
       "      <th></th>\n",
       "      <th></th>\n",
       "      <th>Chargeback#_card</th>\n",
       "    </tr>\n",
       "    <tr>\n",
       "      <th>card_id</th>\n",
       "      <th>ip_country</th>\n",
       "      <th></th>\n",
       "    </tr>\n",
       "  </thead>\n",
       "  <tbody>\n",
       "    <tr>\n",
       "      <th>1494920868</th>\n",
       "      <th>TR</th>\n",
       "      <td>6</td>\n",
       "    </tr>\n",
       "    <tr>\n",
       "      <th>1486952657</th>\n",
       "      <th>PA</th>\n",
       "      <td>6</td>\n",
       "    </tr>\n",
       "    <tr>\n",
       "      <th>1514084474</th>\n",
       "      <th>RU</th>\n",
       "      <td>6</td>\n",
       "    </tr>\n",
       "    <tr>\n",
       "      <th>1502600050</th>\n",
       "      <th>NO</th>\n",
       "      <td>5</td>\n",
       "    </tr>\n",
       "    <tr>\n",
       "      <th>1500719479</th>\n",
       "      <th>RU</th>\n",
       "      <td>5</td>\n",
       "    </tr>\n",
       "    <tr>\n",
       "      <th>1502948866</th>\n",
       "      <th>TH</th>\n",
       "      <td>4</td>\n",
       "    </tr>\n",
       "    <tr>\n",
       "      <th>1513771868</th>\n",
       "      <th>PA</th>\n",
       "      <td>4</td>\n",
       "    </tr>\n",
       "    <tr>\n",
       "      <th>1496395117</th>\n",
       "      <th>PA</th>\n",
       "      <td>4</td>\n",
       "    </tr>\n",
       "    <tr>\n",
       "      <th>1505286417</th>\n",
       "      <th>RU</th>\n",
       "      <td>4</td>\n",
       "    </tr>\n",
       "    <tr>\n",
       "      <th>1508330177</th>\n",
       "      <th>PA</th>\n",
       "      <td>4</td>\n",
       "    </tr>\n",
       "  </tbody>\n",
       "</table>\n",
       "</div>"
      ],
      "text/plain": [
       "                       Chargeback#_card\n",
       "card_id    ip_country                  \n",
       "1494920868 TR                         6\n",
       "1486952657 PA                         6\n",
       "1514084474 RU                         6\n",
       "1502600050 NO                         5\n",
       "1500719479 RU                         5\n",
       "1502948866 TH                         4\n",
       "1513771868 PA                         4\n",
       "1496395117 PA                         4\n",
       "1505286417 RU                         4\n",
       "1508330177 PA                         4"
      ]
     },
     "execution_count": 49,
     "metadata": {},
     "output_type": "execute_result"
    }
   ],
   "source": [
    "ch = chargebacks_per_crd.to_frame(name='Chargeback#_card')\n",
    "\n",
    "with_c = charbx[['card_id', 'ip_country']] \n",
    "with_c\n",
    "\n",
    "with_country = ch.merge(with_c, on='card_id', how='right')\n",
    "card_per_country = with_country.groupby(['card_id','ip_country']).count()\n",
    "card_per_country.sort_values('Chargeback#_card', ascending=False)[:10]"
   ]
  },
  {
   "cell_type": "markdown",
   "metadata": {},
   "source": [
    "#### Cards with more than 2 chargebacks in Q4 2017"
   ]
  },
  {
   "cell_type": "code",
   "execution_count": 50,
   "metadata": {},
   "outputs": [
    {
     "data": {
      "text/plain": [
       "128"
      ]
     },
     "execution_count": 50,
     "metadata": {},
     "output_type": "execute_result"
    }
   ],
   "source": [
    "chargebacks_per_crd[chargebacks_per_crd > 2].sum()"
   ]
  },
  {
   "cell_type": "code",
   "execution_count": 51,
   "metadata": {},
   "outputs": [
    {
     "data": {
      "text/plain": [
       "visa          193\n",
       "mastercard    125\n",
       "Name: c_brand, dtype: int64"
      ]
     },
     "execution_count": 51,
     "metadata": {},
     "output_type": "execute_result"
    }
   ],
   "source": [
    "# Cards distribution in chargebacks.\n",
    "charbx.c_brand.value_counts()"
   ]
  },
  {
   "cell_type": "code",
   "execution_count": 52,
   "metadata": {},
   "outputs": [
    {
     "data": {
      "text/plain": [
       "visa          60.7%\n",
       "mastercard    39.3%\n",
       "Name: c_brand, dtype: object"
      ]
     },
     "execution_count": 52,
     "metadata": {},
     "output_type": "execute_result"
    }
   ],
   "source": [
    "charbx.c_brand.value_counts(normalize=True).mul(100).round(1).astype(str) + '%'"
   ]
  },
  {
   "cell_type": "code",
   "execution_count": 53,
   "metadata": {},
   "outputs": [
    {
     "name": "stdout",
     "output_type": "stream",
     "text": [
      "<class 'pandas.core.frame.DataFrame'>\n",
      "Int64Index: 35457 entries, 0 to 35456\n",
      "Data columns (total 14 columns):\n",
      " #   Column            Non-Null Count  Dtype \n",
      "---  ------            --------------  ----- \n",
      " 0   t_id              35457 non-null  int64 \n",
      " 1   t_created_at      35457 non-null  object\n",
      " 2   succes            35457 non-null  int64 \n",
      " 3   t_amount          35457 non-null  int64 \n",
      " 4   t_curr            35457 non-null  object\n",
      " 5   acq_tid           35457 non-null  object\n",
      " 6   card_id           35457 non-null  int64 \n",
      " 7   cback_created_at  35457 non-null  object\n",
      " 8   cback_curr        35457 non-null  object\n",
      " 9   cback_amnt        35457 non-null  Int64 \n",
      " 10  card_brand        35457 non-null  object\n",
      " 11  ARN               35457 non-null  object\n",
      " 12  bin_last          35457 non-null  object\n",
      " 13  chargeback        35457 non-null  Int64 \n",
      "dtypes: Int64(2), int64(4), object(8)\n",
      "memory usage: 4.1+ MB\n"
     ]
    }
   ],
   "source": [
    "cards = pd.merge(trans_q, chargebx, on=['card_id'], how='left')\n",
    "cards = cards.fillna('')\n",
    "cards['chargeback'] = cards['chargeback'].replace(r'^\\s*$', 0, regex=True).astype('Int64')\n",
    "cards['Amount'] = cards['Amount'].replace(r'^\\s*$', 0, regex=True).astype('Int64')\n",
    "\n",
    "cards.rename(columns=\n",
    "               {\n",
    "                   'id': 't_id',\n",
    "                   'created_at_x': 't_created_at',\n",
    "                   'amount': 't_amount',\n",
    "                   'currency': 't_curr',\n",
    "                   'created_at_y': 'cback_created_at',\n",
    "                   'Currnecy': 'cback_curr',\n",
    "                   'Amount': 'cback_amnt',\n",
    "                   'Card Brans': 'card_brand'\n",
    "               }, inplace=True\n",
    "              )\n",
    "cards.drop(['cb', 'Masked CCN', 'bin_last_4'], axis=1, inplace=True)\n",
    "cards['cback_amnt'] = cards['cback_amnt']\n",
    "# # dataset check\n",
    "# cards = pd.merge(cards, country, on='card_id', how='inner')\n",
    "cards.info()"
   ]
  },
  {
   "cell_type": "markdown",
   "metadata": {},
   "source": [
    "#### All transactions # with cards used at least once as chargeback"
   ]
  },
  {
   "cell_type": "code",
   "execution_count": 54,
   "metadata": {},
   "outputs": [
    {
     "data": {
      "text/plain": [
       "0    33929\n",
       "1     1528\n",
       "Name: chargeback, dtype: Int64"
      ]
     },
     "execution_count": 54,
     "metadata": {},
     "output_type": "execute_result"
    }
   ],
   "source": [
    "# pd.options.display.max_rows = \n",
    "c_both = pd.merge(trans_q, charbx, on=['card_id'], how='inner')\n",
    "cards['chargeback'].value_counts()"
   ]
  },
  {
   "cell_type": "markdown",
   "metadata": {},
   "source": [
    "#### %"
   ]
  },
  {
   "cell_type": "code",
   "execution_count": 55,
   "metadata": {},
   "outputs": [
    {
     "data": {
      "text/plain": [
       "0    95.7%\n",
       "1     4.3%\n",
       "Name: chargeback, dtype: object"
      ]
     },
     "execution_count": 55,
     "metadata": {},
     "output_type": "execute_result"
    }
   ],
   "source": [
    "cards['chargeback'].value_counts(normalize=True).mul(100).round(1).astype(str) + '%'"
   ]
  },
  {
   "cell_type": "markdown",
   "metadata": {},
   "source": [
    "### Analysis Summary\n",
    "\n",
    "\n",
    "- **Chargebacks data for Q4 2017 for unknown Merchant.**\n",
    "- Total unique Customers: **9997** (100%).\n",
    "- Total unique Countries: **49**.\n",
    "- Top Country Transaction-wise: **Poland**\n",
    "- Top Country Chargeback-wise: **Panama**\n",
    "- Chargebacks Countries: **49**.\n",
    "- Total transactions: **34 887** (100%).\n",
    "- No-Chargebacks: **34 569** (99.1%).\n",
    "- Chargebacks transactions: **318** (0.9% of all Transactions).\n",
    "- Chargebacks transactions *VISA* : **193** (60.7% of all Chargebacks).\n",
    "- Chargebacks transactions *MasterCard* : **125** (39.3% of all Chargebacks).\n",
    "- **Chargeback Transactions don't exceed 1.0% of all Transactions**\n",
    "- The same cards are used in both kind of transactions.\n",
    "- All transactions # with cards used at least once as chargeback: **1528** (**4.3%** of all Transactions).\n",
    "- There are **210** unique cards used to chargeback that Merchant.\n",
    "- Top # of Chargeback per a Card: **6** (Turkey, Panama, Russia)\n",
    "- All unique Cards with Chargeback # more than 2: **128**"
   ]
  },
  {
   "cell_type": "markdown",
   "metadata": {},
   "source": [
    "------------------------------------------------------"
   ]
  },
  {
   "cell_type": "markdown",
   "metadata": {},
   "source": [
    "**************************************************\n",
    "**Author:** Marcel Łagoda\n",
    "*************************************************"
   ]
  }
 ],
 "metadata": {
  "kernelspec": {
   "display_name": "Python 3",
   "language": "python",
   "name": "python3"
  },
  "language_info": {
   "codemirror_mode": {
    "name": "ipython",
    "version": 3
   },
   "file_extension": ".py",
   "mimetype": "text/x-python",
   "name": "python",
   "nbconvert_exporter": "python",
   "pygments_lexer": "ipython3",
   "version": "3.8.5"
  }
 },
 "nbformat": 4,
 "nbformat_minor": 1
}
